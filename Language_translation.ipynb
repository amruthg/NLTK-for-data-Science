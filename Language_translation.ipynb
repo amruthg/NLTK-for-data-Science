{
  "nbformat": 4,
  "nbformat_minor": 0,
  "metadata": {
    "colab": {
      "provenance": []
    },
    "kernelspec": {
      "name": "python3",
      "display_name": "Python 3"
    },
    "language_info": {
      "name": "python"
    }
  },
  "cells": [
    {
      "cell_type": "code",
      "source": [
        "#======================================================================\n",
        "#  Exercise:  1.Machine Translation\n",
        "#             2.Using NLTK for Language Translation\n",
        "#             3.Handling Multilingual Text\n",
        "#Author: Amruth Gadepalli\n",
        "#IIIT Banglore.2nd Year\n",
        "#\n",
        "#Date : 9th January 2024\n",
        "#======================================================================"
      ],
      "metadata": {
        "id": "p6tfYsARcbCd"
      },
      "execution_count": null,
      "outputs": []
    },
    {
      "cell_type": "markdown",
      "source": [
        "Exercise 1:"
      ],
      "metadata": {
        "id": "FNYx0FkScshN"
      }
    },
    {
      "cell_type": "code",
      "source": [
        "from nltk.translate import AlignedSent\n"
      ],
      "metadata": {
        "id": "xRyvhNl2cTFa"
      },
      "execution_count": 7,
      "outputs": []
    },
    {
      "cell_type": "code",
      "source": [
        "import nltk\n",
        "nltk.download('punkt')"
      ],
      "metadata": {
        "colab": {
          "base_uri": "https://localhost:8080/"
        },
        "id": "ae_mkkbVb3Fn",
        "outputId": "26c669ab-b48e-42e7-ac32-0d28d5533c8d"
      },
      "execution_count": 4,
      "outputs": [
        {
          "output_type": "stream",
          "name": "stderr",
          "text": [
            "[nltk_data] Downloading package punkt to /root/nltk_data...\n",
            "[nltk_data]   Unzipping tokenizers/punkt.zip.\n"
          ]
        },
        {
          "output_type": "execute_result",
          "data": {
            "text/plain": [
              "True"
            ]
          },
          "metadata": {},
          "execution_count": 4
        }
      ]
    },
    {
      "cell_type": "code",
      "source": [
        "from nltk import word_tokenize\n"
      ],
      "metadata": {
        "id": "2PhGHq2lbzQd"
      },
      "execution_count": 2,
      "outputs": []
    },
    {
      "cell_type": "code",
      "execution_count": 8,
      "metadata": {
        "colab": {
          "base_uri": "https://localhost:8080/"
        },
        "id": "cHIDl4RxXoNY",
        "outputId": "422f37d1-8790-4a51-d4f1-5d9654c1106b"
      },
      "outputs": [
        {
          "output_type": "stream",
          "name": "stdout",
          "text": [
            "Translation: j'aime\n"
          ]
        }
      ],
      "source": [
        "from nltk.translate import Alignment,IBMModel1\n",
        "\n",
        "# Sample parallel text data for training\n",
        "english_sentences = ['I love NLTK.', 'It is powerful.']\n",
        "french_sentences = ['J\\'aime NLTK.', 'C\\'est puissant.']\n",
        "\n",
        "# Tokenize the sentences\n",
        "tokenized_english = [word_tokenize(sent.lower()) for sent in english_sentences]\n",
        "tokenized_french = [word_tokenize(sent.lower()) for sent in french_sentences]\n",
        "\n",
        "aligned_sentences = [AlignedSent(english, french) for english, french in zip(tokenized_english, tokenized_french)]\n",
        "# Train the IBM Model 1 for translation\n",
        "#ibm1 = IBMModel1 (tokenized_english, tokenized_french, 10)\n",
        "ibm1 = IBMModel1(aligned_sentences, 10)\n",
        "# Translate a new sentence from English to French\n",
        "new_sentence = 'NLTK is amazing.'\n",
        "tokenized_new_sentence = word_tokenize(new_sentence.lower())\n",
        "translation_probabilities = ibm1.translation_table[tokenized_new_sentence[0]]\n",
        "\n",
        "# Find the word in French with the highest translation probability\n",
        "translated_word = max(translation_probabilities, key=translation_probabilities.get)\n",
        "print(\"Translation:\", translated_word)"
      ]
    }
  ]
}
