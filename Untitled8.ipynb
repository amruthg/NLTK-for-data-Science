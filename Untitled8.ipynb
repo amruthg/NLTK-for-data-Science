{
  "nbformat": 4,
  "nbformat_minor": 0,
  "metadata": {
    "colab": {
      "provenance": []
    },
    "kernelspec": {
      "name": "python3",
      "display_name": "Python 3"
    },
    "language_info": {
      "name": "python"
    }
  },
  "cells": [
    {
      "cell_type": "code",
      "execution_count": null,
      "metadata": {
        "id": "Xx3DK6aMgPtf"
      },
      "outputs": [],
      "source": [
        "#======================================================================\n",
        "#  Exercise:  1.Text generation techniques\n",
        "#             2.building a generator using nltk\n",
        "#             3.improving text generation using LSTM\n",
        "#             4.Evaluating the Text Classifier\n",
        "#Author: Amruth Gadepalli\n",
        "#IIIT Banglore.2nd Year\n",
        "#\n",
        "#Date : 9th January 2024\n",
        "#======================================================================"
      ]
    },
    {
      "cell_type": "markdown",
      "source": [
        "Exercise 1:"
      ],
      "metadata": {
        "id": "gFoeXEYRgwdW"
      }
    },
    {
      "cell_type": "code",
      "source": [
        "from nltk.tokenize import word_tokenize\n"
      ],
      "metadata": {
        "id": "6DgLBktAhSAx"
      },
      "execution_count": 4,
      "outputs": []
    },
    {
      "cell_type": "code",
      "source": [
        "import nltk\n",
        "nltk.download('punkt')"
      ],
      "metadata": {
        "colab": {
          "base_uri": "https://localhost:8080/"
        },
        "id": "pFxbcl8AhWvV",
        "outputId": "1719b6b4-bc3f-4b40-d5f0-c7b3cb600c45"
      },
      "execution_count": 6,
      "outputs": [
        {
          "output_type": "stream",
          "name": "stderr",
          "text": [
            "[nltk_data] Downloading package punkt to /root/nltk_data...\n",
            "[nltk_data]   Unzipping tokenizers/punkt.zip.\n"
          ]
        },
        {
          "output_type": "execute_result",
          "data": {
            "text/plain": [
              "True"
            ]
          },
          "metadata": {},
          "execution_count": 6
        }
      ]
    },
    {
      "cell_type": "code",
      "source": [
        "# Sample text data for text generation\n",
        "text_data = \"I love NLTK. It is powerful for NLP tasks.\"\n",
        "\n",
        "# Tokenize the text data\n",
        "tokens = word_tokenize(text_data.lower())\n",
        "\n",
        "# Create a Markov Chain model\n",
        "markov_model = {}\n",
        "for i in range(len(tokens) - 1):\n",
        "  current_word = tokens [i]\n",
        "  next_word = tokens [i + 1]\n",
        "  if current_word in markov_model:\n",
        "    markov_model[current_word].append(next_word)\n",
        "  else:\n",
        "    markov_model [current_word] = [next_word]\n",
        "\n",
        "# Generate new text\n",
        "\n",
        "import random\n",
        "\n",
        "generated_text = [random.choice(tokens)]\n",
        "\n",
        "for _ in range(10):\n",
        "  current_word = generated_text[-1]\n",
        "  next_word = random.choice(markov_model[current_word])\n",
        "  generated_text.append(next_word)\n",
        "\n",
        "generated_text = ' '.join(generated_text)\n",
        "\n",
        "print(\"Generated Text:\")\n",
        "print(generated_text)"
      ],
      "metadata": {
        "colab": {
          "base_uri": "https://localhost:8080/"
        },
        "id": "Hc4z4NCegd7O",
        "outputId": "383dc97a-c3b8-45d5-df1e-80d974d3347a"
      },
      "execution_count": 7,
      "outputs": [
        {
          "output_type": "stream",
          "name": "stdout",
          "text": [
            "Generated Text:\n",
            "it is powerful for nlp tasks . it is powerful for\n"
          ]
        }
      ]
    }
  ]
}